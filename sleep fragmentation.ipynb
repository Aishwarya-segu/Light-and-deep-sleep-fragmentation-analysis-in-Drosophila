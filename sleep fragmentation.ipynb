{
 "cells": [
  {
   "cell_type": "code",
   "execution_count": 136,
   "metadata": {},
   "outputs": [],
   "source": [
    "import pandas as pd\n",
    "import csv\n"
   ]
  },
  {
   "cell_type": "code",
   "execution_count": 137,
   "metadata": {},
   "outputs": [
    {
     "name": "stderr",
     "output_type": "stream",
     "text": [
      "/var/folders/ks/s252qk4n2pv3dbh2kckt_y6h0000gn/T/ipykernel_21278/4273041934.py:1: FutureWarning: The 'delim_whitespace' keyword in pd.read_csv is deprecated and will be removed in a future version. Use ``sep='\\s+'`` instead\n",
      "  df = pd.read_csv('/Users/aishwaryasegu/Downloads/attachments/teq_female.txt',delim_whitespace=True,header=None);\n"
     ]
    }
   ],
   "source": [
    "df = pd.read_csv('/Users/aishwaryasegu/Downloads/attachments/teq_female.txt',delim_whitespace=True,header=None);\n"
   ]
  },
  {
   "cell_type": "code",
   "execution_count": 138,
   "metadata": {},
   "outputs": [],
   "source": [
    "df.loc[0:720,12:];"
   ]
  },
  {
   "cell_type": "code",
   "execution_count": null,
   "metadata": {},
   "outputs": [],
   "source": []
  },
  {
   "cell_type": "code",
   "execution_count": 139,
   "metadata": {},
   "outputs": [],
   "source": [
    "def find_sleep_episodes(data):\n",
    "    \"\"\"Finds sleep episodes (5 or more consecutive zeros) and returns their lengths.\"\"\"\n",
    "    episodes = []\n",
    "    sleep_len = 0\n",
    "    \n",
    "    for value in data:\n",
    "        if value == 0:  # Sleep\n",
    "            sleep_len += 1\n",
    "        else:\n",
    "            if sleep_len >= 5:\n",
    "                episodes.append(sleep_len)\n",
    "            sleep_len = 0\n",
    "    # Check if there's a sleep episode at the end\n",
    "    if sleep_len >= 5:\n",
    "        episodes.append(sleep_len)\n",
    "    \n",
    "    return episodes\n"
   ]
  },
  {
   "cell_type": "code",
   "execution_count": 140,
   "metadata": {},
   "outputs": [
    {
     "data": {
      "text/plain": [
       "[8,\n",
       " 8,\n",
       " 15,\n",
       " 15,\n",
       " 15,\n",
       " 37,\n",
       " 20,\n",
       " 31,\n",
       " 33,\n",
       " 56,\n",
       " 54,\n",
       " 36,\n",
       " 23,\n",
       " 23,\n",
       " 20,\n",
       " 5,\n",
       " 26,\n",
       " 5,\n",
       " 11,\n",
       " 5,\n",
       " 15,\n",
       " 21,\n",
       " 46,\n",
       " 505,\n",
       " 24,\n",
       " 5,\n",
       " 25]"
      ]
     },
     "metadata": {},
     "output_type": "display_data"
    },
    {
     "name": "stdout",
     "output_type": "stream",
     "text": [
      "light_sleep : [8, 8, 5, 5, 5, 5]\n",
      "deep_sleep  : [15, 15, 15, 37, 20, 31, 33, 56, 54, 36, 23, 23, 20, 26, 11, 15, 21, 46, 505, 24, 25]\n"
     ]
    }
   ],
   "source": [
    "sleep_episodes = find_sleep_episodes(df.loc[0:1440,12])\n",
    "display(sleep_episodes)\n",
    "len(sleep_episodes)\n",
    "light_sleep = [s  for s in sleep_episodes if s<10]\n",
    "deep_sleep = [s for s in sleep_episodes if s>=10]\n",
    "print(\"light_sleep :\", light_sleep)\n",
    "print(\"deep_sleep  :\" , deep_sleep)\n"
   ]
  },
  {
   "cell_type": "code",
   "execution_count": 141,
   "metadata": {},
   "outputs": [
    {
     "data": {
      "text/plain": [
       "(5760, 7200)"
      ]
     },
     "execution_count": 141,
     "metadata": {},
     "output_type": "execute_result"
    }
   ],
   "source": [
    "\n",
    "days = [df.loc[i:i+1440,:] for i in range(0,len(df),1440)]\n",
    "def day(n):\n",
    "     return (n*1440,(n+1)*1440)\n",
    "day(4)"
   ]
  },
  {
   "cell_type": "code",
   "execution_count": 142,
   "metadata": {},
   "outputs": [
    {
     "data": {
      "text/plain": [
       "13.6"
      ]
     },
     "metadata": {},
     "output_type": "display_data"
    },
    {
     "data": {
      "text/plain": [
       "[13.8,\n",
       " 13.6,\n",
       " 12.4,\n",
       " 1.0,\n",
       " 17.8,\n",
       " 15.6,\n",
       " 13.0,\n",
       " 8.4,\n",
       " 12.6,\n",
       " 22.0,\n",
       " 12.8,\n",
       " 10.8,\n",
       " 7.2,\n",
       " 20.6,\n",
       " 16.6,\n",
       " 5.8,\n",
       " 10.0,\n",
       " 24.2,\n",
       " 9.4,\n",
       " 16.0,\n",
       " 16.0,\n",
       " 12.8,\n",
       " 1.0,\n",
       " 13.0,\n",
       " 20.6,\n",
       " 16.8,\n",
       " 12.8,\n",
       " 17.8,\n",
       " 22.4,\n",
       " 8.4,\n",
       " 13.8,\n",
       " 11.2]"
      ]
     },
     "execution_count": 142,
     "metadata": {},
     "output_type": "execute_result"
    }
   ],
   "source": [
    "\n",
    "def light_sleep(sl): \n",
    "    return [s  for s in sl if s<10]\n",
    "def deep_sleep(sl): \n",
    "    return [s for s in sl if s>=10]\n",
    "def sleep_episodes(dff,flyno,daynight,dayno):\n",
    "    daypair = day(dayno)\n",
    "    #print(daypair)\n",
    "    st = daypair[0]\n",
    "    sp = daypair[1]\n",
    "    #print(st,st+720, sp)\n",
    "    if daynight==\"day\":\n",
    "        return find_sleep_episodes(dff.loc[st:st+1080,flyno])\n",
    "    elif daynight==\"night\":\n",
    "        return find_sleep_episodes(dff.loc[st+1080:sp,flyno])\n",
    "    elif daynight==\"all\":\n",
    "        return find_sleep_episodes(dff.loc[st:sp,flyno])\n",
    "    else:\n",
    "        raise Exception(\"daynight wrong\")\n",
    "    \n",
    "\n",
    "#display(deep_sleep(sleep_episodes(df,12,\"day\",2)))\n",
    "#display(deep_sleep(sleep_episodes(df,12,\"day\",1)))\n",
    "\n",
    "\n",
    "\n",
    "def average(daynight,flyno,sleep):\n",
    "    ret = []\n",
    "    for d in range(5): \n",
    "        #display(sleep(sleep_episodes(df,flyno,daynight,d)))\n",
    "        ret.extend(sleep(sleep_episodes(df,flyno,daynight,d)))\n",
    "    return sum(ret)/len(ret) if len(ret)!=0 else float('NaN')\n",
    "\n",
    "def episodeno(daynight,flyno,sleep):\n",
    "    ret = []\n",
    "    for d in range(5):\n",
    "        ret.append(len(sleep(sleep_episodes(df,flyno,daynight,d))))\n",
    "        #display(ret)\n",
    "    return sum(ret)/len(ret)\n",
    "\n",
    "display(episodeno(\"day\",13,deep_sleep))\n",
    "\n",
    "def episodeeno_allflys(daynight,sleep):\n",
    "    ret = []\n",
    "    for fly in range(12,44):\n",
    "        ret.append(episodeno(daynight,fly,sleep))\n",
    "    return ret\n",
    "\n",
    "(episodeeno_allflys(\"day\",deep_sleep))\n"
   ]
  },
  {
   "cell_type": "code",
   "execution_count": 143,
   "metadata": {},
   "outputs": [],
   "source": [
    "                   \n",
    "\n",
    "def fly_averages(sleep,daynight):\n",
    "    ret = []\n",
    "    for flyno in range(12,44):\n",
    "        ret.append(average(daynight,flyno,sleep))\n",
    "    return ret\n",
    "\n",
    "#average(\"day\",15,light_sleep)\n",
    "fly_averages(deep_sleep,\"day\")\n",
    "\n",
    "with open(f\"/Users/aishwaryasegu/Downloads/teq_mal_day30.csv\",\"w\") as fobj:\n",
    "    csv_writer = csv.writer(fobj)\n",
    "    for pair in [(deep_sleep,\"day\") ,(deep_sleep,\"night\") ,(light_sleep,\"day\") , (light_sleep,\"night\")]:\n",
    "        func = pair[0]\n",
    "        daynight = pair[1]\n",
    "        ds = \"deepsleep\" if func==deep_sleep else \"lightsleep\"\n",
    "        csv_writer.writerow([f\"{ds}\"+daynight] + fly_averages(func,daynight))\n",
    "        csv_writer.writerow([f\"{ds}_\"+daynight+\"_episode\"] + episodeeno_allflys(daynight,func))\n",
    "    #for pair in [(deep_sleep,\"day\") ,(deep_sleep,\"night\") ,(light_sleep,\"day\") , (light_sleep,\"night\")]:\n",
    "    #    func = pair[0]\n",
    "    #   daynight = pair[1]\n",
    "    #   ds = \"deepsleep\" if func\n"
   ]
  },
  {
   "cell_type": "code",
   "execution_count": 144,
   "metadata": {},
   "outputs": [],
   "source": [
    "import matplotlib.pyplot as plt"
   ]
  },
  {
   "cell_type": "code",
   "execution_count": 145,
   "metadata": {},
   "outputs": [
    {
     "data": {
      "text/plain": [
       "0      1\n",
       "1      2\n",
       "2      1\n",
       "3      1\n",
       "4      1\n",
       "5      0\n",
       "6      0\n",
       "7      2\n",
       "8      2\n",
       "9      2\n",
       "10     1\n",
       "11     3\n",
       "12     1\n",
       "13     1\n",
       "14     2\n",
       "15     0\n",
       "16     2\n",
       "17     2\n",
       "18     0\n",
       "19     2\n",
       "20     0\n",
       "21     4\n",
       "22     1\n",
       "23     0\n",
       "24     3\n",
       "25     1\n",
       "26     1\n",
       "27     0\n",
       "28     2\n",
       "29     0\n",
       "30     0\n",
       "31     2\n",
       "32     2\n",
       "33     2\n",
       "34     0\n",
       "35     2\n",
       "36     0\n",
       "37     2\n",
       "38     1\n",
       "39     1\n",
       "40     3\n",
       "41     3\n",
       "42     3\n",
       "43     2\n",
       "44     1\n",
       "45     4\n",
       "46     1\n",
       "47     2\n",
       "48     1\n",
       "49     0\n",
       "50     3\n",
       "51     2\n",
       "52     0\n",
       "53     4\n",
       "54     1\n",
       "55     0\n",
       "56     1\n",
       "57     0\n",
       "58     0\n",
       "59     2\n",
       "60     0\n",
       "61     2\n",
       "62     2\n",
       "63     0\n",
       "64     3\n",
       "65     1\n",
       "66     1\n",
       "67     0\n",
       "68     0\n",
       "69     0\n",
       "70     0\n",
       "71     1\n",
       "72     1\n",
       "73     1\n",
       "74     1\n",
       "75     1\n",
       "76     1\n",
       "77     2\n",
       "78     1\n",
       "79     1\n",
       "80     1\n",
       "81     0\n",
       "82     5\n",
       "83     3\n",
       "84     1\n",
       "85     0\n",
       "86     1\n",
       "87     1\n",
       "88     1\n",
       "89     2\n",
       "90     2\n",
       "91     1\n",
       "92     1\n",
       "93     0\n",
       "94     0\n",
       "95     0\n",
       "96     0\n",
       "97     0\n",
       "98     0\n",
       "99     0\n",
       "100    0\n",
       "Name: 12, dtype: int64"
      ]
     },
     "execution_count": 145,
     "metadata": {},
     "output_type": "execute_result"
    }
   ],
   "source": [
    "(df.loc[0:100,12])"
   ]
  },
  {
   "cell_type": "code",
   "execution_count": 146,
   "metadata": {},
   "outputs": [
    {
     "data": {
      "text/plain": [
       "80     1\n",
       "81     0\n",
       "82     5\n",
       "83     3\n",
       "84     1\n",
       "85     0\n",
       "86     1\n",
       "87     1\n",
       "88     1\n",
       "89     2\n",
       "90     2\n",
       "91     1\n",
       "92     1\n",
       "93     0\n",
       "94     0\n",
       "95     0\n",
       "96     0\n",
       "97     0\n",
       "98     0\n",
       "99     0\n",
       "100    0\n",
       "101    1\n",
       "Name: 12, dtype: int64"
      ]
     },
     "execution_count": 146,
     "metadata": {},
     "output_type": "execute_result"
    }
   ],
   "source": [
    "pd.set_option('display.max_rows', None)\n",
    "(df.loc[80:101,12])"
   ]
  },
  {
   "cell_type": "code",
   "execution_count": null,
   "metadata": {},
   "outputs": [],
   "source": []
  },
  {
   "cell_type": "code",
   "execution_count": null,
   "metadata": {},
   "outputs": [],
   "source": []
  }
 ],
 "metadata": {
  "kernelspec": {
   "display_name": "base",
   "language": "python",
   "name": "python3"
  },
  "language_info": {
   "codemirror_mode": {
    "name": "ipython",
    "version": 3
   },
   "file_extension": ".py",
   "mimetype": "text/x-python",
   "name": "python",
   "nbconvert_exporter": "python",
   "pygments_lexer": "ipython3",
   "version": "3.10.14"
  }
 },
 "nbformat": 4,
 "nbformat_minor": 2
}
